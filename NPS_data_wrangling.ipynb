{
 "cells": [
  {
   "cell_type": "code",
   "execution_count": 2,
   "metadata": {},
   "outputs": [],
   "source": [
    "# Should Make School Bring 'VR' Back As One of the Tracks? (NPS Project by Zain Raza)"
   ]
  },
  {
   "cell_type": "code",
   "execution_count": 114,
   "metadata": {},
   "outputs": [],
   "source": [
    "# let's get to the code!\n",
    "import numpy as np \n",
    "import pandas as pd \n",
    "import matplotlib.pyplot as plt\n",
    "import seaborn as sns"
   ]
  },
  {
   "cell_type": "code",
   "execution_count": 117,
   "metadata": {},
   "outputs": [
    {
     "data": {
      "text/html": [
       "<div>\n",
       "<style scoped>\n",
       "    .dataframe tbody tr th:only-of-type {\n",
       "        vertical-align: middle;\n",
       "    }\n",
       "\n",
       "    .dataframe tbody tr th {\n",
       "        vertical-align: top;\n",
       "    }\n",
       "\n",
       "    .dataframe thead th {\n",
       "        text-align: right;\n",
       "    }\n",
       "</style>\n",
       "<table border=\"1\" class=\"dataframe\">\n",
       "  <thead>\n",
       "    <tr style=\"text-align: right;\">\n",
       "      <th></th>\n",
       "      <th>ID</th>\n",
       "      <th>Location</th>\n",
       "      <th>Track</th>\n",
       "      <th>Week</th>\n",
       "      <th>Rating (Num)</th>\n",
       "      <th>Schedule Pacing</th>\n",
       "    </tr>\n",
       "  </thead>\n",
       "  <tbody>\n",
       "    <tr>\n",
       "      <th>0</th>\n",
       "      <td>134</td>\n",
       "      <td>San Francisco</td>\n",
       "      <td>Apps, Explorer</td>\n",
       "      <td>Week 1</td>\n",
       "      <td>3</td>\n",
       "      <td>Just right</td>\n",
       "    </tr>\n",
       "    <tr>\n",
       "      <th>1</th>\n",
       "      <td>36</td>\n",
       "      <td>Los Angeles</td>\n",
       "      <td>Apps</td>\n",
       "      <td>Week 1</td>\n",
       "      <td>4</td>\n",
       "      <td>A little too fast</td>\n",
       "    </tr>\n",
       "    <tr>\n",
       "      <th>2</th>\n",
       "      <td>117</td>\n",
       "      <td>San Francisco</td>\n",
       "      <td>Games</td>\n",
       "      <td>Week 1</td>\n",
       "      <td>4</td>\n",
       "      <td>Way too slow</td>\n",
       "    </tr>\n",
       "    <tr>\n",
       "      <th>3</th>\n",
       "      <td>253</td>\n",
       "      <td>NaN</td>\n",
       "      <td>NaN</td>\n",
       "      <td>Week 2</td>\n",
       "      <td>4</td>\n",
       "      <td>A little too fast</td>\n",
       "    </tr>\n",
       "    <tr>\n",
       "      <th>4</th>\n",
       "      <td>350</td>\n",
       "      <td>New York City</td>\n",
       "      <td>Apps, Explorer</td>\n",
       "      <td>Week 1</td>\n",
       "      <td>4</td>\n",
       "      <td>Just right</td>\n",
       "    </tr>\n",
       "  </tbody>\n",
       "</table>\n",
       "</div>"
      ],
      "text/plain": [
       "    ID       Location           Track    Week Rating (Num)    Schedule Pacing\n",
       "0  134  San Francisco  Apps, Explorer  Week 1            3         Just right\n",
       "1   36    Los Angeles            Apps  Week 1            4  A little too fast\n",
       "2  117  San Francisco           Games  Week 1            4       Way too slow\n",
       "3  253            NaN             NaN  Week 2            4  A little too fast\n",
       "4  350  New York City  Apps, Explorer  Week 1            4         Just right"
      ]
     },
     "execution_count": 117,
     "metadata": {},
     "output_type": "execute_result"
    }
   ],
   "source": [
    "df = pd.read_csv('SA Feedback Surveys_FINAL/2017/Student-Feedback-Surveys-Superview.csv')\n",
    "df.head()"
   ]
  },
  {
   "cell_type": "code",
   "execution_count": 116,
   "metadata": {},
   "outputs": [
    {
     "data": {
      "text/plain": [
       "60"
      ]
     },
     "execution_count": 116,
     "metadata": {},
     "output_type": "execute_result"
    }
   ],
   "source": [
    "# Q1: In this survey, how many of the responses came from VR students? \n",
    "vr_students = df[df['Track'] == 'VR']\n",
    "num_vr = len(vr_students)\n",
    "num_vr"
   ]
  },
  {
   "cell_type": "code",
   "execution_count": 6,
   "metadata": {},
   "outputs": [
    {
     "data": {
      "text/html": [
       "<div>\n",
       "<style scoped>\n",
       "    .dataframe tbody tr th:only-of-type {\n",
       "        vertical-align: middle;\n",
       "    }\n",
       "\n",
       "    .dataframe tbody tr th {\n",
       "        vertical-align: top;\n",
       "    }\n",
       "\n",
       "    .dataframe thead th {\n",
       "        text-align: right;\n",
       "    }\n",
       "</style>\n",
       "<table border=\"1\" class=\"dataframe\">\n",
       "  <thead>\n",
       "    <tr style=\"text-align: right;\">\n",
       "      <th>Week</th>\n",
       "      <th>Week 1</th>\n",
       "      <th>Week 2</th>\n",
       "      <th>Week 3</th>\n",
       "      <th>Week 4</th>\n",
       "      <th>Week 5</th>\n",
       "      <th>Week 6</th>\n",
       "      <th>Week 7</th>\n",
       "      <th>Week 8</th>\n",
       "    </tr>\n",
       "    <tr>\n",
       "      <th>Track</th>\n",
       "      <th></th>\n",
       "      <th></th>\n",
       "      <th></th>\n",
       "      <th></th>\n",
       "      <th></th>\n",
       "      <th></th>\n",
       "      <th></th>\n",
       "      <th></th>\n",
       "    </tr>\n",
       "  </thead>\n",
       "  <tbody>\n",
       "    <tr>\n",
       "      <th>Apps</th>\n",
       "      <td>183</td>\n",
       "      <td>176</td>\n",
       "      <td>142</td>\n",
       "      <td>105</td>\n",
       "      <td>101</td>\n",
       "      <td>88</td>\n",
       "      <td>72</td>\n",
       "      <td>4</td>\n",
       "    </tr>\n",
       "    <tr>\n",
       "      <th>Apps, Explorer</th>\n",
       "      <td>42</td>\n",
       "      <td>40</td>\n",
       "      <td>38</td>\n",
       "      <td>34</td>\n",
       "      <td>31</td>\n",
       "      <td>23</td>\n",
       "      <td>16</td>\n",
       "      <td>0</td>\n",
       "    </tr>\n",
       "    <tr>\n",
       "      <th>Games</th>\n",
       "      <td>35</td>\n",
       "      <td>29</td>\n",
       "      <td>36</td>\n",
       "      <td>33</td>\n",
       "      <td>31</td>\n",
       "      <td>21</td>\n",
       "      <td>19</td>\n",
       "      <td>4</td>\n",
       "    </tr>\n",
       "    <tr>\n",
       "      <th>Games, Explorer</th>\n",
       "      <td>6</td>\n",
       "      <td>6</td>\n",
       "      <td>7</td>\n",
       "      <td>7</td>\n",
       "      <td>6</td>\n",
       "      <td>6</td>\n",
       "      <td>5</td>\n",
       "      <td>0</td>\n",
       "    </tr>\n",
       "    <tr>\n",
       "      <th>VR</th>\n",
       "      <td>10</td>\n",
       "      <td>10</td>\n",
       "      <td>10</td>\n",
       "      <td>10</td>\n",
       "      <td>7</td>\n",
       "      <td>5</td>\n",
       "      <td>7</td>\n",
       "      <td>1</td>\n",
       "    </tr>\n",
       "  </tbody>\n",
       "</table>\n",
       "</div>"
      ],
      "text/plain": [
       "Week             Week 1  Week 2  Week 3  Week 4  Week 5  Week 6  Week 7  \\\n",
       "Track                                                                     \n",
       "Apps                183     176     142     105     101      88      72   \n",
       "Apps, Explorer       42      40      38      34      31      23      16   \n",
       "Games                35      29      36      33      31      21      19   \n",
       "Games, Explorer       6       6       7       7       6       6       5   \n",
       "VR                   10      10      10      10       7       5       7   \n",
       "\n",
       "Week             Week 8  \n",
       "Track                    \n",
       "Apps                  4  \n",
       "Apps, Explorer        0  \n",
       "Games                 4  \n",
       "Games, Explorer       0  \n",
       "VR                    1  "
      ]
     },
     "execution_count": 6,
     "metadata": {},
     "output_type": "execute_result"
    }
   ],
   "source": [
    "# But wait! This does not mean there were 60 different VR students in the program!\n",
    "# Q2: Assuming that students were not allowed to change concentration, \n",
    "# and that students were not allowed to enter Make School mid-program, what is the number of distinct students in VR?\n",
    "\n",
    "# let's create a distribution of students by week and by track, so we can get an idea of how many students there were\n",
    "# in each track\n",
    "table = pd.crosstab(df['Track'], df['Week'])\n",
    "table"
   ]
  },
  {
   "cell_type": "code",
   "execution_count": 103,
   "metadata": {},
   "outputs": [
    {
     "data": {
      "text/html": [
       "<div>\n",
       "<style scoped>\n",
       "    .dataframe tbody tr th:only-of-type {\n",
       "        vertical-align: middle;\n",
       "    }\n",
       "\n",
       "    .dataframe tbody tr th {\n",
       "        vertical-align: top;\n",
       "    }\n",
       "\n",
       "    .dataframe thead th {\n",
       "        text-align: right;\n",
       "    }\n",
       "</style>\n",
       "<table border=\"1\" class=\"dataframe\">\n",
       "  <thead>\n",
       "    <tr style=\"text-align: right;\">\n",
       "      <th></th>\n",
       "      <th># Students</th>\n",
       "      <th>% of All Students</th>\n",
       "    </tr>\n",
       "  </thead>\n",
       "  <tbody>\n",
       "    <tr>\n",
       "      <th>Apps</th>\n",
       "      <td>183</td>\n",
       "      <td>0.658273</td>\n",
       "    </tr>\n",
       "    <tr>\n",
       "      <th>Apps, Explorer</th>\n",
       "      <td>42</td>\n",
       "      <td>0.151079</td>\n",
       "    </tr>\n",
       "    <tr>\n",
       "      <th>Games</th>\n",
       "      <td>36</td>\n",
       "      <td>0.129496</td>\n",
       "    </tr>\n",
       "    <tr>\n",
       "      <th>Games, Explorer</th>\n",
       "      <td>7</td>\n",
       "      <td>0.025180</td>\n",
       "    </tr>\n",
       "    <tr>\n",
       "      <th>VR</th>\n",
       "      <td>10</td>\n",
       "      <td>0.035971</td>\n",
       "    </tr>\n",
       "  </tbody>\n",
       "</table>\n",
       "</div>"
      ],
      "text/plain": [
       "                 # Students  % of All Students\n",
       "Apps                    183           0.658273\n",
       "Apps, Explorer           42           0.151079\n",
       "Games                    36           0.129496\n",
       "Games, Explorer           7           0.025180\n",
       "VR                       10           0.035971"
      ]
     },
     "execution_count": 103,
     "metadata": {},
     "output_type": "execute_result"
    }
   ],
   "source": [
    "# Let's assume the max in row represents the number of students in that track\n",
    "\n",
    "# find the numbers of students\n",
    "students_apps = dict(pd.crosstab(df['Week'], df['Track']))['Apps'].values.max()  # students in Apps track\n",
    "students_apps_explorer = dict(pd.crosstab(df['Week'], df['Track']))['Apps, Explorer'].values.max()  # students in Apps/Explorer track\n",
    "students_games = dict(pd.crosstab(df['Week'], df['Track']))['Games'].values.max()  # students in Games track\n",
    "students_games_explorer = dict(pd.crosstab(df['Week'], df['Track']))['Games, Explorer'].values.max()  # students in Games/Explorer track\n",
    "students_vr = dict(pd.crosstab(df['Week'], df['Track']))['VR'].values.max()  # students in VR track\n",
    "\n",
    "# store them in a list\n",
    "num_students = [\n",
    "    students_apps,\n",
    "    students_apps_explorer,\n",
    "    students_games,\n",
    "    students_games_explorer,\n",
    "    students_vr\n",
    "]\n",
    "\n",
    "track_names = ['Apps', 'Apps, Explorer','Games','Games, Explorer','VR']\n",
    "\n",
    "# Q3: What percentage of students did each track take up out of all students?\n",
    "# calculate the percentages of students in each track, out of all the students in the program\n",
    "total = sum(num_students)\n",
    "percentages = [num/total for num in num_students]\n",
    "\n",
    "students_for_each_track = pd.DataFrame(data={\n",
    "        '# Students': num_students,\n",
    "        '% of All Students': percentages\n",
    "    }, index=track_names,\n",
    ")\n",
    "# we can now see (an estimate of) the number of students in each track, and the percentage they made of all students!\n",
    "students_for_each_track"
   ]
  },
  {
   "cell_type": "code",
   "execution_count": 47,
   "metadata": {},
   "outputs": [
    {
     "data": {
      "text/plain": [
       "<matplotlib.axes._subplots.AxesSubplot at 0x12e863f50>"
      ]
     },
     "execution_count": 47,
     "metadata": {},
     "output_type": "execute_result"
    },
    {
     "data": {
      "image/png": "[encoded data removed]",
      "text/plain": [
       "<Figure size 432x288 with 1 Axes>"
      ]
     },
     "metadata": {},
     "output_type": "display_data"
    }
   ],
   "source": [
    "# To compare, let's create a pie chart!\n",
    "students_for_each_track.plot.pie(y='# Students')"
   ]
  },
  {
   "cell_type": "code",
   "execution_count": 50,
   "metadata": {},
   "outputs": [
    {
     "data": {
      "text/plain": [
       "<matplotlib.axes._subplots.AxesSubplot at 0x12ea3a290>"
      ]
     },
     "execution_count": 50,
     "metadata": {},
     "output_type": "execute_result"
    },
    {
     "data": {
      "image/png": "[encoded data removed]",
      "text/plain": [
       "<Figure size 432x288 with 1 Axes>"
      ]
     },
     "metadata": {
      "needs_background": "light"
     },
     "output_type": "display_data"
    }
   ],
   "source": [
    "# Let's See the Data Again, Using a Bar Chart!\n",
    "students_for_each_track.plot.bar(y='# Students')"
   ]
  },
  {
   "cell_type": "code",
   "execution_count": 99,
   "metadata": {},
   "outputs": [],
   "source": [
    "# Q4: As a group, what was the NPS score of students in the VR track?\n",
    "def calculate_nps(track, week):\n",
    "    '''Return the NPS score of students within a given track at Make School, for a given week during the program.'''\n",
    "    students = df[(df['Track'] == track) & (df['Week'] == week)]\n",
    "    # classify people as either promoters, passives, or detractors\n",
    "    promoters, passives, detractors = 0, 0, 0\n",
    "    ratings = students['Rating (Num)']\n",
    "    for rating in ratings:\n",
    "        rating = int(rating)\n",
    "        if rating >= 9:\n",
    "            promoters +=1\n",
    "        elif rating >= 7:\n",
    "            passives += 1\n",
    "        else:\n",
    "            detractors += 1\n",
    "    # calculate the NPS score!\n",
    "    nps = (promoters - detractors)/(promoters + passives + detractors)\n",
    "    return nps"
   ]
  },
  {
   "cell_type": "code",
   "execution_count": 102,
   "metadata": {},
   "outputs": [
    {
     "data": {
      "text/plain": [
       "0.7"
      ]
     },
     "execution_count": 102,
     "metadata": {},
     "output_type": "execute_result"
    }
   ],
   "source": [
    "# How does the function above work? Let's test it out, using VR students during Week 1 as our data sample!\n",
    "calculate_nps('VR', 'Week 1')"
   ]
  },
  {
   "cell_type": "code",
   "execution_count": 113,
   "metadata": {},
   "outputs": [],
   "source": [
    "# Cool! So how did the NPS score of VR students change over the course of Make School?\n",
    "# How does their trend compare with students from other tracks?\n",
    "\n",
    "weeks = [\n",
    "    'Week 1',\n",
    "    'Week 2',\n",
    "    'Week 3',\n",
    "    'Week 4',\n",
    "    'Week 5',\n",
    "    'Week 6',\n",
    "    'Week 7',\n",
    "    'Week 8',\n",
    "]\n",
    "\n",
    "nps_by_track_per_week = pd.DataFrame(data={\n",
    "        weeks[0]: [], # list of NPS scores for week 1 only, in this order by track: 'Apps', 'Apps, Explorer','Games','Games, Explorer','VR'\n",
    "        weeks[1]: [],\n",
    "        weeks[2]: [],\n",
    "        weeks[3]: [],\n",
    "        weeks[4]: [],\n",
    "        weeks[5]: [],\n",
    "        weeks[7]: [],\n",
    "    }, index=track_names\n",
    ")"
   ]
  },
  {
   "cell_type": "code",
   "execution_count": null,
   "metadata": {},
   "outputs": [],
   "source": [
    "# Q5: On average, how well did VR students handle the pacing of Make School?\n",
    "# How did this sentiment change over the course of the 2017 program? (line graph)"
   ]
  },
  {
   "cell_type": "code",
   "execution_count": null,
   "metadata": {},
   "outputs": [],
   "source": [
    "# Q6: Where did the students in the VR track come from? (bar and pie graph)"
   ]
  },
  {
   "cell_type": "code",
   "execution_count": null,
   "metadata": {},
   "outputs": [],
   "source": [
    "# Q7: What was the amount of variance in the NPS score of students in the VR track? \n",
    "# How does their NPS score variance compare with that of the other tracks?"
   ]
  },
  {
   "cell_type": "code",
   "execution_count": null,
   "metadata": {},
   "outputs": [],
   "source": [
    "# Q8: What was the amount of variance in how many VR students responded to the NPS survey over the 8 weeks?\n",
    "# How does this compare to students from the other tracks?"
   ]
  }
 ],
 "metadata": {
  "kernelspec": {
   "display_name": "Python 3",
   "language": "python",
   "name": "python3"
  },
  "language_info": {
   "codemirror_mode": {
    "name": "ipython",
    "version": 3
   },
   "file_extension": ".py",
   "mimetype": "text/x-python",
   "name": "python",
   "nbconvert_exporter": "python",
   "pygments_lexer": "ipython3",
   "version": "3.7.6"
  }
 },
 "nbformat": 4,
 "nbformat_minor": 4
}
