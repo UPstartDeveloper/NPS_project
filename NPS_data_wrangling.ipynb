{
 "cells": [
  {
   "cell_type": "code",
   "execution_count": 514,
   "metadata": {},
   "outputs": [],
   "source": [
    "# Should Make School Bring 'VR' Back As One of the Tracks? (NPS Project by Zain Raza)"
   ]
  },
  {
   "cell_type": "code",
   "execution_count": 515,
   "metadata": {},
   "outputs": [],
   "source": [
    "# let's get to the code! init imports\n",
    "import numpy as np \n",
    "import pandas as pd \n",
    "import matplotlib.pyplot as plt\n",
    "import seaborn as sns"
   ]
  },
  {
   "cell_type": "code",
   "execution_count": 516,
   "metadata": {},
   "outputs": [
    {
     "data": {
      "text/html": [
       "<div>\n",
       "<style scoped>\n",
       "    .dataframe tbody tr th:only-of-type {\n",
       "        vertical-align: middle;\n",
       "    }\n",
       "\n",
       "    .dataframe tbody tr th {\n",
       "        vertical-align: top;\n",
       "    }\n",
       "\n",
       "    .dataframe thead th {\n",
       "        text-align: right;\n",
       "    }\n",
       "</style>\n",
       "<table border=\"1\" class=\"dataframe\">\n",
       "  <thead>\n",
       "    <tr style=\"text-align: right;\">\n",
       "      <th></th>\n",
       "      <th>ID</th>\n",
       "      <th>Location</th>\n",
       "      <th>Track</th>\n",
       "      <th>Week</th>\n",
       "      <th>Rating (Num)</th>\n",
       "      <th>Schedule Pacing</th>\n",
       "    </tr>\n",
       "  </thead>\n",
       "  <tbody>\n",
       "    <tr>\n",
       "      <th>0</th>\n",
       "      <td>134</td>\n",
       "      <td>San Francisco</td>\n",
       "      <td>Apps, Explorer</td>\n",
       "      <td>Week 1</td>\n",
       "      <td>3</td>\n",
       "      <td>Just right</td>\n",
       "    </tr>\n",
       "    <tr>\n",
       "      <th>1</th>\n",
       "      <td>36</td>\n",
       "      <td>Los Angeles</td>\n",
       "      <td>Apps</td>\n",
       "      <td>Week 1</td>\n",
       "      <td>4</td>\n",
       "      <td>A little too fast</td>\n",
       "    </tr>\n",
       "    <tr>\n",
       "      <th>2</th>\n",
       "      <td>117</td>\n",
       "      <td>San Francisco</td>\n",
       "      <td>Games</td>\n",
       "      <td>Week 1</td>\n",
       "      <td>4</td>\n",
       "      <td>Way too slow</td>\n",
       "    </tr>\n",
       "    <tr>\n",
       "      <th>3</th>\n",
       "      <td>253</td>\n",
       "      <td>NaN</td>\n",
       "      <td>NaN</td>\n",
       "      <td>Week 2</td>\n",
       "      <td>4</td>\n",
       "      <td>A little too fast</td>\n",
       "    </tr>\n",
       "    <tr>\n",
       "      <th>4</th>\n",
       "      <td>350</td>\n",
       "      <td>New York City</td>\n",
       "      <td>Apps, Explorer</td>\n",
       "      <td>Week 1</td>\n",
       "      <td>4</td>\n",
       "      <td>Just right</td>\n",
       "    </tr>\n",
       "  </tbody>\n",
       "</table>\n",
       "</div>"
      ],
      "text/plain": [
       "    ID       Location           Track    Week Rating (Num)    Schedule Pacing\n",
       "0  134  San Francisco  Apps, Explorer  Week 1            3         Just right\n",
       "1   36    Los Angeles            Apps  Week 1            4  A little too fast\n",
       "2  117  San Francisco           Games  Week 1            4       Way too slow\n",
       "3  253            NaN             NaN  Week 2            4  A little too fast\n",
       "4  350  New York City  Apps, Explorer  Week 1            4         Just right"
      ]
     },
     "execution_count": 516,
     "metadata": {},
     "output_type": "execute_result"
    }
   ],
   "source": [
    "df = pd.read_csv('SA Feedback Surveys_FINAL/2017/Student-Feedback-Surveys-Superview.csv')\n",
    "df.head()"
   ]
  },
  {
   "cell_type": "code",
   "execution_count": 517,
   "metadata": {},
   "outputs": [
    {
     "data": {
      "text/plain": [
       "60"
      ]
     },
     "execution_count": 517,
     "metadata": {},
     "output_type": "execute_result"
    }
   ],
   "source": [
    "# Q1: In this survey, how many of the responses came from VR students? \n",
    "vr_students = df[df['Track'] == 'VR']\n",
    "num_vr = len(vr_students)\n",
    "num_vr"
   ]
  },
  {
   "cell_type": "code",
   "execution_count": 518,
   "metadata": {},
   "outputs": [
    {
     "data": {
      "text/html": [
       "<div>\n",
       "<style scoped>\n",
       "    .dataframe tbody tr th:only-of-type {\n",
       "        vertical-align: middle;\n",
       "    }\n",
       "\n",
       "    .dataframe tbody tr th {\n",
       "        vertical-align: top;\n",
       "    }\n",
       "\n",
       "    .dataframe thead th {\n",
       "        text-align: right;\n",
       "    }\n",
       "</style>\n",
       "<table border=\"1\" class=\"dataframe\">\n",
       "  <thead>\n",
       "    <tr style=\"text-align: right;\">\n",
       "      <th>Week</th>\n",
       "      <th>Week 1</th>\n",
       "      <th>Week 2</th>\n",
       "      <th>Week 3</th>\n",
       "      <th>Week 4</th>\n",
       "      <th>Week 5</th>\n",
       "      <th>Week 6</th>\n",
       "      <th>Week 7</th>\n",
       "      <th>Week 8</th>\n",
       "    </tr>\n",
       "    <tr>\n",
       "      <th>Track</th>\n",
       "      <th></th>\n",
       "      <th></th>\n",
       "      <th></th>\n",
       "      <th></th>\n",
       "      <th></th>\n",
       "      <th></th>\n",
       "      <th></th>\n",
       "      <th></th>\n",
       "    </tr>\n",
       "  </thead>\n",
       "  <tbody>\n",
       "    <tr>\n",
       "      <th>Apps</th>\n",
       "      <td>183</td>\n",
       "      <td>176</td>\n",
       "      <td>142</td>\n",
       "      <td>105</td>\n",
       "      <td>101</td>\n",
       "      <td>88</td>\n",
       "      <td>72</td>\n",
       "      <td>4</td>\n",
       "    </tr>\n",
       "    <tr>\n",
       "      <th>Apps, Explorer</th>\n",
       "      <td>42</td>\n",
       "      <td>40</td>\n",
       "      <td>38</td>\n",
       "      <td>34</td>\n",
       "      <td>31</td>\n",
       "      <td>23</td>\n",
       "      <td>16</td>\n",
       "      <td>0</td>\n",
       "    </tr>\n",
       "    <tr>\n",
       "      <th>Games</th>\n",
       "      <td>35</td>\n",
       "      <td>29</td>\n",
       "      <td>36</td>\n",
       "      <td>33</td>\n",
       "      <td>31</td>\n",
       "      <td>21</td>\n",
       "      <td>19</td>\n",
       "      <td>4</td>\n",
       "    </tr>\n",
       "    <tr>\n",
       "      <th>Games, Explorer</th>\n",
       "      <td>6</td>\n",
       "      <td>6</td>\n",
       "      <td>7</td>\n",
       "      <td>7</td>\n",
       "      <td>6</td>\n",
       "      <td>6</td>\n",
       "      <td>5</td>\n",
       "      <td>0</td>\n",
       "    </tr>\n",
       "    <tr>\n",
       "      <th>VR</th>\n",
       "      <td>10</td>\n",
       "      <td>10</td>\n",
       "      <td>10</td>\n",
       "      <td>10</td>\n",
       "      <td>7</td>\n",
       "      <td>5</td>\n",
       "      <td>7</td>\n",
       "      <td>1</td>\n",
       "    </tr>\n",
       "  </tbody>\n",
       "</table>\n",
       "</div>"
      ],
      "text/plain": [
       "Week             Week 1  Week 2  Week 3  Week 4  Week 5  Week 6  Week 7  \\\n",
       "Track                                                                     \n",
       "Apps                183     176     142     105     101      88      72   \n",
       "Apps, Explorer       42      40      38      34      31      23      16   \n",
       "Games                35      29      36      33      31      21      19   \n",
       "Games, Explorer       6       6       7       7       6       6       5   \n",
       "VR                   10      10      10      10       7       5       7   \n",
       "\n",
       "Week             Week 8  \n",
       "Track                    \n",
       "Apps                  4  \n",
       "Apps, Explorer        0  \n",
       "Games                 4  \n",
       "Games, Explorer       0  \n",
       "VR                    1  "
      ]
     },
     "execution_count": 518,
     "metadata": {},
     "output_type": "execute_result"
    }
   ],
   "source": [
    "# But wait! This does not mean there were 60 different VR students in the program!\n",
    "# Q2: Assuming that students were not allowed to change concentration, \n",
    "# and that students were not allowed to enter Make School mid-program, what is the number of distinct students in VR?\n",
    "\n",
    "# let's create a distribution of students by week and by track, so we can get an idea of how many students there were\n",
    "# in each track\n",
    "table = pd.crosstab(df['Track'], df['Week'])\n",
    "table"
   ]
  },
  {
   "cell_type": "code",
   "execution_count": 519,
   "metadata": {},
   "outputs": [
    {
     "data": {
      "text/html": [
       "<div>\n",
       "<style scoped>\n",
       "    .dataframe tbody tr th:only-of-type {\n",
       "        vertical-align: middle;\n",
       "    }\n",
       "\n",
       "    .dataframe tbody tr th {\n",
       "        vertical-align: top;\n",
       "    }\n",
       "\n",
       "    .dataframe thead th {\n",
       "        text-align: right;\n",
       "    }\n",
       "</style>\n",
       "<table border=\"1\" class=\"dataframe\">\n",
       "  <thead>\n",
       "    <tr style=\"text-align: right;\">\n",
       "      <th></th>\n",
       "      <th># Students</th>\n",
       "      <th>% of All Students</th>\n",
       "    </tr>\n",
       "  </thead>\n",
       "  <tbody>\n",
       "    <tr>\n",
       "      <th>Apps</th>\n",
       "      <td>183</td>\n",
       "      <td>0.658273</td>\n",
       "    </tr>\n",
       "    <tr>\n",
       "      <th>Apps, Explorer</th>\n",
       "      <td>42</td>\n",
       "      <td>0.151079</td>\n",
       "    </tr>\n",
       "    <tr>\n",
       "      <th>Games</th>\n",
       "      <td>36</td>\n",
       "      <td>0.129496</td>\n",
       "    </tr>\n",
       "    <tr>\n",
       "      <th>Games, Explorer</th>\n",
       "      <td>7</td>\n",
       "      <td>0.025180</td>\n",
       "    </tr>\n",
       "    <tr>\n",
       "      <th>VR</th>\n",
       "      <td>10</td>\n",
       "      <td>0.035971</td>\n",
       "    </tr>\n",
       "  </tbody>\n",
       "</table>\n",
       "</div>"
      ],
      "text/plain": [
       "                 # Students  % of All Students\n",
       "Apps                    183           0.658273\n",
       "Apps, Explorer           42           0.151079\n",
       "Games                    36           0.129496\n",
       "Games, Explorer           7           0.025180\n",
       "VR                       10           0.035971"
      ]
     },
     "execution_count": 519,
     "metadata": {},
     "output_type": "execute_result"
    }
   ],
   "source": [
    "# Let's assume the max in row represents the number of students in that track\n",
    "\n",
    "# find the numbers of students\n",
    "students_apps = dict(pd.crosstab(df['Week'], df['Track']))['Apps'].values.max()  # students in Apps track\n",
    "students_apps_explorer = dict(pd.crosstab(df['Week'], df['Track']))['Apps, Explorer'].values.max()  # students in Apps/Explorer track\n",
    "students_games = dict(pd.crosstab(df['Week'], df['Track']))['Games'].values.max()  # students in Games track\n",
    "students_games_explorer = dict(pd.crosstab(df['Week'], df['Track']))['Games, Explorer'].values.max()  # students in Games/Explorer track\n",
    "students_vr = dict(pd.crosstab(df['Week'], df['Track']))['VR'].values.max()  # students in VR track\n",
    "\n",
    "# store them in a list\n",
    "num_students = [\n",
    "    students_apps,\n",
    "    students_apps_explorer,\n",
    "    students_games,\n",
    "    students_games_explorer,\n",
    "    students_vr\n",
    "]\n",
    "\n",
    "track_names = ['Apps', 'Apps, Explorer','Games','Games, Explorer','VR']\n",
    "\n",
    "# Q3: What percentage of students did each track take up out of all students?\n",
    "# calculate the percentages of students in each track, out of all the students in the program\n",
    "total = sum(num_students)\n",
    "percentages = [num/total for num in num_students]\n",
    "\n",
    "students_for_each_track = pd.DataFrame(data={\n",
    "        '# Students': num_students,\n",
    "        '% of All Students': percentages\n",
    "    }, index=track_names,\n",
    ")\n",
    "# we can now see (an estimate of) the number of students in each track, and the percentage they made of all students!\n",
    "students_for_each_track"
   ]
  },
  {
   "cell_type": "code",
   "execution_count": 520,
   "metadata": {},
   "outputs": [
    {
     "data": {
      "text/plain": [
       "<matplotlib.axes._subplots.AxesSubplot at 0x1354dd850>"
      ]
     },
     "execution_count": 520,
     "metadata": {},
     "output_type": "execute_result"
    },
    {
     "data": {
      "image/png": "[encoded data removed]",
      "text/plain": [
       "<Figure size 432x288 with 1 Axes>"
      ]
     },
     "metadata": {},
     "output_type": "display_data"
    }
   ],
   "source": [
    "# To compare, let's create a pie chart!\n",
    "students_for_each_track.plot.pie(y='# Students')"
   ]
  },
  {
   "cell_type": "code",
   "execution_count": 521,
   "metadata": {},
   "outputs": [
    {
     "data": {
      "text/plain": [
       "<matplotlib.axes._subplots.AxesSubplot at 0x135080c50>"
      ]
     },
     "execution_count": 521,
     "metadata": {},
     "output_type": "execute_result"
    },
    {
     "data": {
      "image/png": "[encoded data removed]",
      "text/plain": [
       "<Figure size 432x288 with 1 Axes>"
      ]
     },
     "metadata": {},
     "output_type": "display_data"
    }
   ],
   "source": [
    "# Let's See the Data Again, Using a Bar Chart!\n",
    "students_for_each_track.plot.bar(y='# Students')"
   ]
  },
  {
   "cell_type": "code",
   "execution_count": 522,
   "metadata": {},
   "outputs": [],
   "source": [
    "# Q3: As a group, what was the NPS score of students in the VR track?\n",
    "not_vr = 'Non-VR'\n",
    "def calculate_nps(track, week):\n",
    "    '''Return the NPS score of students within a given track at Make School, for a given week during the program.'''\n",
    "    if not track == not_vr:\n",
    "        students = df[(df['Track'] == track) & (df['Week'] == week)]\n",
    "    else:  # if we're taking the NPS for all non VR students (not a track in dataset)\n",
    "        students = df[(df['Track'] != 'VR') & (df['Week'] == week)]\n",
    "\n",
    "    # classify people as either promoters, passives, or detractors\n",
    "    promoters, passives, detractors = 0, 0, 0\n",
    "    ratings = students['Rating (Num)']\n",
    "    for rating in ratings:\n",
    "        # dealing with NaN ratings\n",
    "        try:\n",
    "            rating = int(rating)\n",
    "        except ValueError:\n",
    "            break\n",
    "        # using rating to create counts of promoters, passives, and detractors\n",
    "        if rating >= 9:\n",
    "            promoters +=1\n",
    "        elif rating >= 7:\n",
    "            passives += 1\n",
    "        else:\n",
    "            detractors += 1\n",
    "    # calculate the NPS score!\n",
    "    try:\n",
    "        nps = (promoters - detractors)/(promoters + passives + detractors)\n",
    "    except ZeroDivisionError:  # some weeks no one from the track answered the nps survey\n",
    "        nps = 0\n",
    "    return nps"
   ]
  },
  {
   "cell_type": "code",
   "execution_count": 523,
   "metadata": {},
   "outputs": [
    {
     "data": {
      "text/plain": [
       "0.4520547945205479"
      ]
     },
     "execution_count": 523,
     "metadata": {},
     "output_type": "execute_result"
    }
   ],
   "source": [
    "# How does the function above work? Let's test it out, using VR students during Week 1 as our data sample!\n",
    "calculate_nps('Non-VR', 'Week 3')"
   ]
  },
  {
   "cell_type": "code",
   "execution_count": 524,
   "metadata": {},
   "outputs": [
    {
     "data": {
      "text/plain": [
       "['Apps', 'Apps, Explorer', 'Games', 'Games, Explorer', 'VR', 'Non-VR']"
      ]
     },
     "execution_count": 524,
     "metadata": {},
     "output_type": "execute_result"
    }
   ],
   "source": [
    "# Cool! So how did the NPS score of VR students change over the course of Make School?\n",
    "# How does their trend compare with students from other tracks?\n",
    "\n",
    "# it'll be useful to keep a list of all the weeks here:\n",
    "weeks = [\n",
    "    'Week 1',\n",
    "    'Week 2',\n",
    "    'Week 3',\n",
    "    'Week 4',\n",
    "    'Week 5',\n",
    "    'Week 6',\n",
    "    'Week 7',\n",
    "    'Week 8',\n",
    "]\n",
    "\n",
    "# let's keep track of the groups we're comparing too\n",
    "groups = track_names + [not_vr]\n",
    "groups"
   ]
  },
  {
   "cell_type": "code",
   "execution_count": 525,
   "metadata": {},
   "outputs": [],
   "source": [
    "def calculate_nps_all_tracks_one_week(tracks, week):\n",
    "    '''For one week, return the NPS score for all the tracks.'''\n",
    "    scores = list()\n",
    "    for track in tracks:\n",
    "        scores.append(calculate_nps(track, week))\n",
    "    return scores"
   ]
  },
  {
   "cell_type": "code",
   "execution_count": 526,
   "metadata": {},
   "outputs": [
    {
     "data": {
      "text/html": [
       "<div>\n",
       "<style scoped>\n",
       "    .dataframe tbody tr th:only-of-type {\n",
       "        vertical-align: middle;\n",
       "    }\n",
       "\n",
       "    .dataframe tbody tr th {\n",
       "        vertical-align: top;\n",
       "    }\n",
       "\n",
       "    .dataframe thead th {\n",
       "        text-align: right;\n",
       "    }\n",
       "</style>\n",
       "<table border=\"1\" class=\"dataframe\">\n",
       "  <thead>\n",
       "    <tr style=\"text-align: right;\">\n",
       "      <th></th>\n",
       "      <th>Week 1</th>\n",
       "      <th>Week 2</th>\n",
       "      <th>Week 3</th>\n",
       "      <th>Week 4</th>\n",
       "      <th>Week 5</th>\n",
       "      <th>Week 6</th>\n",
       "      <th>Week 7</th>\n",
       "      <th>Week 8</th>\n",
       "    </tr>\n",
       "  </thead>\n",
       "  <tbody>\n",
       "    <tr>\n",
       "      <th>Apps</th>\n",
       "      <td>0.366120</td>\n",
       "      <td>0.369318</td>\n",
       "      <td>0.464789</td>\n",
       "      <td>0.371429</td>\n",
       "      <td>0.405941</td>\n",
       "      <td>0.420455</td>\n",
       "      <td>0.569444</td>\n",
       "      <td>1.00</td>\n",
       "    </tr>\n",
       "    <tr>\n",
       "      <th>Apps, Explorer</th>\n",
       "      <td>0.166667</td>\n",
       "      <td>0.325000</td>\n",
       "      <td>0.315789</td>\n",
       "      <td>0.294118</td>\n",
       "      <td>0.322581</td>\n",
       "      <td>0.347826</td>\n",
       "      <td>0.437500</td>\n",
       "      <td>0.00</td>\n",
       "    </tr>\n",
       "    <tr>\n",
       "      <th>Games</th>\n",
       "      <td>0.314286</td>\n",
       "      <td>0.724138</td>\n",
       "      <td>0.583333</td>\n",
       "      <td>0.666667</td>\n",
       "      <td>0.612903</td>\n",
       "      <td>0.666667</td>\n",
       "      <td>0.736842</td>\n",
       "      <td>0.50</td>\n",
       "    </tr>\n",
       "    <tr>\n",
       "      <th>Games, Explorer</th>\n",
       "      <td>0.666667</td>\n",
       "      <td>0.833333</td>\n",
       "      <td>0.857143</td>\n",
       "      <td>0.714286</td>\n",
       "      <td>0.666667</td>\n",
       "      <td>0.666667</td>\n",
       "      <td>0.600000</td>\n",
       "      <td>0.00</td>\n",
       "    </tr>\n",
       "    <tr>\n",
       "      <th>VR</th>\n",
       "      <td>0.700000</td>\n",
       "      <td>0.800000</td>\n",
       "      <td>0.800000</td>\n",
       "      <td>0.300000</td>\n",
       "      <td>1.000000</td>\n",
       "      <td>1.000000</td>\n",
       "      <td>0.714286</td>\n",
       "      <td>1.00</td>\n",
       "    </tr>\n",
       "    <tr>\n",
       "      <th>Non-VR</th>\n",
       "      <td>0.338129</td>\n",
       "      <td>0.395437</td>\n",
       "      <td>0.452055</td>\n",
       "      <td>0.426230</td>\n",
       "      <td>0.436047</td>\n",
       "      <td>0.460432</td>\n",
       "      <td>0.575221</td>\n",
       "      <td>0.75</td>\n",
       "    </tr>\n",
       "  </tbody>\n",
       "</table>\n",
       "</div>"
      ],
      "text/plain": [
       "                   Week 1    Week 2    Week 3    Week 4    Week 5    Week 6  \\\n",
       "Apps             0.366120  0.369318  0.464789  0.371429  0.405941  0.420455   \n",
       "Apps, Explorer   0.166667  0.325000  0.315789  0.294118  0.322581  0.347826   \n",
       "Games            0.314286  0.724138  0.583333  0.666667  0.612903  0.666667   \n",
       "Games, Explorer  0.666667  0.833333  0.857143  0.714286  0.666667  0.666667   \n",
       "VR               0.700000  0.800000  0.800000  0.300000  1.000000  1.000000   \n",
       "Non-VR           0.338129  0.395437  0.452055  0.426230  0.436047  0.460432   \n",
       "\n",
       "                   Week 7  Week 8  \n",
       "Apps             0.569444    1.00  \n",
       "Apps, Explorer   0.437500    0.00  \n",
       "Games            0.736842    0.50  \n",
       "Games, Explorer  0.600000    0.00  \n",
       "VR               0.714286    1.00  \n",
       "Non-VR           0.575221    0.75  "
      ]
     },
     "execution_count": 526,
     "metadata": {},
     "output_type": "execute_result"
    }
   ],
   "source": [
    "# great, now let's tabulate the data, and see the NPS scores across all tracks week by week!\n",
    "nps_by_track_per_week = pd.DataFrame(data={\n",
    "        weeks[0]: calculate_nps_all_tracks_one_week(groups, weeks[0]), # list of NPS scores for week 1 only\n",
    "        weeks[1]: calculate_nps_all_tracks_one_week(groups, weeks[1]), # done across all tracks\n",
    "        weeks[2]: calculate_nps_all_tracks_one_week(groups, weeks[2]), # track order is as follows:\n",
    "        weeks[3]: calculate_nps_all_tracks_one_week(groups, weeks[3]), # Apps, Apps, Explorer,Games,Games, Explorer,VR\n",
    "        weeks[4]: calculate_nps_all_tracks_one_week(groups, weeks[4]),\n",
    "        weeks[5]: calculate_nps_all_tracks_one_week(groups, weeks[5]),\n",
    "        weeks[6]: calculate_nps_all_tracks_one_week(groups, weeks[6]),\n",
    "        weeks[7]: calculate_nps_all_tracks_one_week(groups, weeks[7])\n",
    "    }, index=groups\n",
    ")\n",
    "\n",
    "nps_by_track_per_week"
   ]
  },
  {
   "cell_type": "code",
   "execution_count": 527,
   "metadata": {},
   "outputs": [
    {
     "data": {
      "image/png": "[encoded data removed]",
      "text/plain": [
       "<Figure size 432x288 with 1 Axes>"
      ]
     },
     "metadata": {},
     "output_type": "display_data"
    }
   ],
   "source": [
    "# Can we compare change in NPS score for VR students vs. other tracks using a line plot?\n",
    "# Shoutout to Tanner for his help in making the legend!\n",
    "fig, ax = plt.subplots()\n",
    "\n",
    "def make_plots_for_tracks(track, weeks):\n",
    "    scores = nps_by_track_per_week.head(groups.index(track) + 1)\n",
    "    nps_scores = []\n",
    "    for i in range(1, 9):\n",
    "        nps_scores.append(scores[f'Week {i}'])\n",
    "    # print(nps_scores)\n",
    "    ax.plot(range(1,9), nps_scores)\n",
    "    plt.legend(groups, loc=4)\n",
    "    \n",
    "make_plots_for_tracks('VR', weeks)\n",
    "ax.set(xlabel='Week', ylabel='NPS Score',\n",
    "       title='Make School NPS Score by Track')\n",
    "plt.show()"
   ]
  },
  {
   "cell_type": "code",
   "execution_count": 528,
   "metadata": {},
   "outputs": [
    {
     "data": {
      "image/png": "[encoded data removed]",
      "text/plain": [
       "<Figure size 432x288 with 1 Axes>"
      ]
     },
     "metadata": {},
     "output_type": "display_data"
    }
   ],
   "source": [
    "# Ok, but how does VR stack up against vs. all the rest of Make School in 2017?\n",
    "fig, ax = plt.subplots()\n",
    "def make_plots_for_vr_and_rest(weeks):\n",
    "    scores = nps_by_track_per_week.tail(2)\n",
    "    nps_scores = []\n",
    "    for i in range(1, 9):\n",
    "        nps_scores.append(scores[f'Week {i}'])\n",
    "    ax.plot(range(1,9), nps_scores)\n",
    "    plt.legend(['VR', 'Non-VR'], loc=4)\n",
    "    \n",
    "make_plots_for_vr_and_rest(weeks)\n",
    "ax.set(xlabel='Week', ylabel='NPS Score',\n",
    "       title='Make School NPS Score of VR vs. Everyone Else')\n",
    "plt.show()"
   ]
  },
  {
   "cell_type": "code",
   "execution_count": 529,
   "metadata": {},
   "outputs": [],
   "source": [
    "# Q4: What was the amount of variance in how many VR students responded to the NPS survey over the 8 weeks?\n",
    "# How does this compare to students from the other tracks?"
   ]
  },
  {
   "cell_type": "code",
   "execution_count": 530,
   "metadata": {},
   "outputs": [
    {
     "data": {
      "text/html": [
       "<div>\n",
       "<style scoped>\n",
       "    .dataframe tbody tr th:only-of-type {\n",
       "        vertical-align: middle;\n",
       "    }\n",
       "\n",
       "    .dataframe tbody tr th {\n",
       "        vertical-align: top;\n",
       "    }\n",
       "\n",
       "    .dataframe thead th {\n",
       "        text-align: right;\n",
       "    }\n",
       "</style>\n",
       "<table border=\"1\" class=\"dataframe\">\n",
       "  <thead>\n",
       "    <tr style=\"text-align: right;\">\n",
       "      <th></th>\n",
       "      <th>Track</th>\n",
       "      <th>Number Responses</th>\n",
       "    </tr>\n",
       "  </thead>\n",
       "  <tbody>\n",
       "    <tr>\n",
       "      <th>0</th>\n",
       "      <td>Apps</td>\n",
       "      <td>183</td>\n",
       "    </tr>\n",
       "    <tr>\n",
       "      <th>1</th>\n",
       "      <td>Apps</td>\n",
       "      <td>176</td>\n",
       "    </tr>\n",
       "    <tr>\n",
       "      <th>2</th>\n",
       "      <td>Apps</td>\n",
       "      <td>142</td>\n",
       "    </tr>\n",
       "    <tr>\n",
       "      <th>3</th>\n",
       "      <td>Apps</td>\n",
       "      <td>105</td>\n",
       "    </tr>\n",
       "    <tr>\n",
       "      <th>4</th>\n",
       "      <td>Apps</td>\n",
       "      <td>101</td>\n",
       "    </tr>\n",
       "    <tr>\n",
       "      <th>5</th>\n",
       "      <td>Apps</td>\n",
       "      <td>88</td>\n",
       "    </tr>\n",
       "    <tr>\n",
       "      <th>6</th>\n",
       "      <td>Apps</td>\n",
       "      <td>72</td>\n",
       "    </tr>\n",
       "    <tr>\n",
       "      <th>7</th>\n",
       "      <td>Apps</td>\n",
       "      <td>4</td>\n",
       "    </tr>\n",
       "    <tr>\n",
       "      <th>8</th>\n",
       "      <td>Apps, Explorer</td>\n",
       "      <td>42</td>\n",
       "    </tr>\n",
       "    <tr>\n",
       "      <th>9</th>\n",
       "      <td>Apps, Explorer</td>\n",
       "      <td>40</td>\n",
       "    </tr>\n",
       "    <tr>\n",
       "      <th>10</th>\n",
       "      <td>Apps, Explorer</td>\n",
       "      <td>38</td>\n",
       "    </tr>\n",
       "    <tr>\n",
       "      <th>11</th>\n",
       "      <td>Apps, Explorer</td>\n",
       "      <td>34</td>\n",
       "    </tr>\n",
       "    <tr>\n",
       "      <th>12</th>\n",
       "      <td>Apps, Explorer</td>\n",
       "      <td>31</td>\n",
       "    </tr>\n",
       "    <tr>\n",
       "      <th>13</th>\n",
       "      <td>Apps, Explorer</td>\n",
       "      <td>23</td>\n",
       "    </tr>\n",
       "    <tr>\n",
       "      <th>14</th>\n",
       "      <td>Apps, Explorer</td>\n",
       "      <td>16</td>\n",
       "    </tr>\n",
       "    <tr>\n",
       "      <th>15</th>\n",
       "      <td>Apps, Explorer</td>\n",
       "      <td>0</td>\n",
       "    </tr>\n",
       "    <tr>\n",
       "      <th>16</th>\n",
       "      <td>Games</td>\n",
       "      <td>35</td>\n",
       "    </tr>\n",
       "    <tr>\n",
       "      <th>17</th>\n",
       "      <td>Games</td>\n",
       "      <td>29</td>\n",
       "    </tr>\n",
       "    <tr>\n",
       "      <th>18</th>\n",
       "      <td>Games</td>\n",
       "      <td>36</td>\n",
       "    </tr>\n",
       "    <tr>\n",
       "      <th>19</th>\n",
       "      <td>Games</td>\n",
       "      <td>33</td>\n",
       "    </tr>\n",
       "    <tr>\n",
       "      <th>20</th>\n",
       "      <td>Games</td>\n",
       "      <td>31</td>\n",
       "    </tr>\n",
       "    <tr>\n",
       "      <th>21</th>\n",
       "      <td>Games</td>\n",
       "      <td>21</td>\n",
       "    </tr>\n",
       "    <tr>\n",
       "      <th>22</th>\n",
       "      <td>Games</td>\n",
       "      <td>19</td>\n",
       "    </tr>\n",
       "    <tr>\n",
       "      <th>23</th>\n",
       "      <td>Games</td>\n",
       "      <td>4</td>\n",
       "    </tr>\n",
       "    <tr>\n",
       "      <th>24</th>\n",
       "      <td>Games, Explorer</td>\n",
       "      <td>6</td>\n",
       "    </tr>\n",
       "    <tr>\n",
       "      <th>25</th>\n",
       "      <td>Games, Explorer</td>\n",
       "      <td>6</td>\n",
       "    </tr>\n",
       "    <tr>\n",
       "      <th>26</th>\n",
       "      <td>Games, Explorer</td>\n",
       "      <td>7</td>\n",
       "    </tr>\n",
       "    <tr>\n",
       "      <th>27</th>\n",
       "      <td>Games, Explorer</td>\n",
       "      <td>7</td>\n",
       "    </tr>\n",
       "    <tr>\n",
       "      <th>28</th>\n",
       "      <td>Games, Explorer</td>\n",
       "      <td>6</td>\n",
       "    </tr>\n",
       "    <tr>\n",
       "      <th>29</th>\n",
       "      <td>Games, Explorer</td>\n",
       "      <td>6</td>\n",
       "    </tr>\n",
       "    <tr>\n",
       "      <th>30</th>\n",
       "      <td>Games, Explorer</td>\n",
       "      <td>5</td>\n",
       "    </tr>\n",
       "    <tr>\n",
       "      <th>31</th>\n",
       "      <td>Games, Explorer</td>\n",
       "      <td>0</td>\n",
       "    </tr>\n",
       "    <tr>\n",
       "      <th>32</th>\n",
       "      <td>VR</td>\n",
       "      <td>10</td>\n",
       "    </tr>\n",
       "    <tr>\n",
       "      <th>33</th>\n",
       "      <td>VR</td>\n",
       "      <td>10</td>\n",
       "    </tr>\n",
       "    <tr>\n",
       "      <th>34</th>\n",
       "      <td>VR</td>\n",
       "      <td>10</td>\n",
       "    </tr>\n",
       "    <tr>\n",
       "      <th>35</th>\n",
       "      <td>VR</td>\n",
       "      <td>10</td>\n",
       "    </tr>\n",
       "    <tr>\n",
       "      <th>36</th>\n",
       "      <td>VR</td>\n",
       "      <td>7</td>\n",
       "    </tr>\n",
       "    <tr>\n",
       "      <th>37</th>\n",
       "      <td>VR</td>\n",
       "      <td>5</td>\n",
       "    </tr>\n",
       "    <tr>\n",
       "      <th>38</th>\n",
       "      <td>VR</td>\n",
       "      <td>7</td>\n",
       "    </tr>\n",
       "    <tr>\n",
       "      <th>39</th>\n",
       "      <td>VR</td>\n",
       "      <td>1</td>\n",
       "    </tr>\n",
       "  </tbody>\n",
       "</table>\n",
       "</div>"
      ],
      "text/plain": [
       "              Track  Number Responses\n",
       "0              Apps               183\n",
       "1              Apps               176\n",
       "2              Apps               142\n",
       "3              Apps               105\n",
       "4              Apps               101\n",
       "5              Apps                88\n",
       "6              Apps                72\n",
       "7              Apps                 4\n",
       "8    Apps, Explorer                42\n",
       "9    Apps, Explorer                40\n",
       "10   Apps, Explorer                38\n",
       "11   Apps, Explorer                34\n",
       "12   Apps, Explorer                31\n",
       "13   Apps, Explorer                23\n",
       "14   Apps, Explorer                16\n",
       "15   Apps, Explorer                 0\n",
       "16            Games                35\n",
       "17            Games                29\n",
       "18            Games                36\n",
       "19            Games                33\n",
       "20            Games                31\n",
       "21            Games                21\n",
       "22            Games                19\n",
       "23            Games                 4\n",
       "24  Games, Explorer                 6\n",
       "25  Games, Explorer                 6\n",
       "26  Games, Explorer                 7\n",
       "27  Games, Explorer                 7\n",
       "28  Games, Explorer                 6\n",
       "29  Games, Explorer                 6\n",
       "30  Games, Explorer                 5\n",
       "31  Games, Explorer                 0\n",
       "32               VR                10\n",
       "33               VR                10\n",
       "34               VR                10\n",
       "35               VR                10\n",
       "36               VR                 7\n",
       "37               VR                 5\n",
       "38               VR                 7\n",
       "39               VR                 1"
      ]
     },
     "execution_count": 530,
     "metadata": {},
     "output_type": "execute_result"
    }
   ],
   "source": [
    "# Let's go back to our table of the responses from each track week by week:\n",
    "flipped_table = pd.crosstab(df['Week'],df['Track'])\n",
    "melted_table = pd.melt(flipped_table)\n",
    "renamed_table = melted_table.rename(columns = {'value':'Number Responses'})\n",
    "renamed_table"
   ]
  },
  {
   "cell_type": "code",
   "execution_count": 536,
   "metadata": {},
   "outputs": [
    {
     "data": {
      "image/png": "[encoded data removed]",
      "text/plain": [
       "<Figure size 432x288 with 1 Axes>"
      ]
     },
     "metadata": {},
     "output_type": "display_data"
    }
   ],
   "source": [
    "# Creating a Neat Violin Plot\n",
    "\n",
    "sns.violinplot(y='Number Responses', x='Track', data=renamed_table)\n",
    "ax.set(xlabel='Week', ylabel='NPS Score',\n",
    "       title='Variance in Survey Responses by Track')\n",
    "plt.show()"
   ]
  },
  {
   "cell_type": "code",
   "execution_count": 537,
   "metadata": {},
   "outputs": [
    {
     "data": {
      "image/png": "[encoded data removed]",
      "text/plain": [
       "<Figure size 432x288 with 1 Axes>"
      ]
     },
     "metadata": {},
     "output_type": "display_data"
    }
   ],
   "source": [
    "# Alt Representation Using Line Plot - Shoutout to John for helping me with this!\n",
    "ax.set(title='Variance in Survey Responses by Track')\n",
    "sns.lineplot(y='Number Responses', x='Track', data=renamed_table)\n",
    "plt.show()"
   ]
  },
  {
   "cell_type": "code",
   "execution_count": 443,
   "metadata": {},
   "outputs": [],
   "source": [
    "# Q5: Do the students who feel positive about Make School do better in class than those who don't?"
   ]
  },
  {
   "cell_type": "code",
   "execution_count": 444,
   "metadata": {},
   "outputs": [
    {
     "data": {
      "text/plain": [
       "array(['Just right', 'A little too fast', 'Way too slow',\n",
       "       'A little too slow', 'Way too fast', nan], dtype=object)"
      ]
     },
     "execution_count": 444,
     "metadata": {},
     "output_type": "execute_result"
    }
   ],
   "source": [
    "pacing_replies = df['Schedule Pacing'].unique()\n",
    "pacing_replies"
   ]
  },
  {
   "cell_type": "code",
   "execution_count": 445,
   "metadata": {},
   "outputs": [],
   "source": [
    "def is_doing_okay(reply):\n",
    "    '''Return True if the student is not falling behind their Make School classes.'''\n",
    "    return (reply == 'Just right' or reply == 'A little too slow' or reply == 'Way too slow')"
   ]
  },
  {
   "cell_type": "code",
   "execution_count": 446,
   "metadata": {},
   "outputs": [],
   "source": [
    "# Make a new df of promoters, passives, and detractors at each week in the program, and\n",
    "# the percent of people in that group that did well in classes that week"
   ]
  },
  {
   "cell_type": "code",
   "execution_count": 447,
   "metadata": {},
   "outputs": [],
   "source": [
    "def classify_person_by_rating(rating):\n",
    "    '''Return whether a person is a promoter, is passive, or is a detractor based on their NPS score.'''\n",
    "    if not rating == '#ERROR!':\n",
    "        rating = int(rating)\n",
    "        if rating >= 9:\n",
    "             return \"Promoter\"\n",
    "        elif rating >= 7:\n",
    "            return \"Passive\"\n",
    "        else:\n",
    "            return \"Detractor\""
   ]
  },
  {
   "cell_type": "code",
   "execution_count": 448,
   "metadata": {},
   "outputs": [],
   "source": [
    "# keep track of the groups we're tracking:\n",
    "groups = [\"Promoter\", \"Passive\", \"Detractor\"]"
   ]
  },
  {
   "cell_type": "code",
   "execution_count": 449,
   "metadata": {},
   "outputs": [],
   "source": [
    "# Derive probability formula using Bayes' Theorem"
   ]
  },
  {
   "cell_type": "code",
   "execution_count": 508,
   "metadata": {},
   "outputs": [],
   "source": [
    "def make_percentage_by_week_for_group(group):\n",
    "    \"\"\"Calculate the probability a person from this group did well in class, given they were in their group.\n",
    "       Parameter: group(str)\n",
    "       \n",
    "       Returns: list\n",
    "    \n",
    "    \"\"\"\n",
    "    percentages = list()\n",
    "    num_in_group, num_in_group_doing_ok = 0, 0\n",
    "    # go week by week\n",
    "    for week in weeks:\n",
    "        for i in range(1, len(df['Rating (Num)'])):\n",
    "            # determine if the person is in the group\n",
    "            rating = df['Rating (Num)'][i]\n",
    "            if group == classify_person_by_rating(rating):\n",
    "                # determine if the person is doing well or not\n",
    "                reply = df['Schedule Pacing'][i]\n",
    "                if is_doing_okay(reply) is True and df['Week'][i] == week:\n",
    "                # increment values as appropiate\n",
    "                    num_in_group_doing_ok += 1\n",
    "                num_in_group += 1\n",
    "                # add a metric to the list\n",
    "        if num_in_group == 0:\n",
    "            percentages.append(0)\n",
    "        else:\n",
    "            percentages.append(num_in_group_doing_ok/num_in_group)\n",
    "            \n",
    "    return percentages"
   ]
  },
  {
   "cell_type": "code",
   "execution_count": 509,
   "metadata": {},
   "outputs": [],
   "source": [
    "# Let's create lists of the conditional probabilities a promoter, a passive, and a detractor was to do \n",
    "# well in their Make School classes, week by week.\n",
    "\n",
    "percents_for_all_groups = dict()\n",
    "for group in groups:\n",
    "    percents_of_one_group = make_percentage_by_week_for_group(group)\n",
    "    percents_for_all_groups[group] = percents_of_one_group \n",
    "    "
   ]
  },
  {
   "cell_type": "code",
   "execution_count": 510,
   "metadata": {},
   "outputs": [
    {
     "data": {
      "text/html": [
       "<div>\n",
       "<style scoped>\n",
       "    .dataframe tbody tr th:only-of-type {\n",
       "        vertical-align: middle;\n",
       "    }\n",
       "\n",
       "    .dataframe tbody tr th {\n",
       "        vertical-align: top;\n",
       "    }\n",
       "\n",
       "    .dataframe thead th {\n",
       "        text-align: right;\n",
       "    }\n",
       "</style>\n",
       "<table border=\"1\" class=\"dataframe\">\n",
       "  <thead>\n",
       "    <tr style=\"text-align: right;\">\n",
       "      <th></th>\n",
       "      <th>Promoter</th>\n",
       "      <th>Passive</th>\n",
       "      <th>Detractor</th>\n",
       "    </tr>\n",
       "  </thead>\n",
       "  <tbody>\n",
       "    <tr>\n",
       "      <th>1</th>\n",
       "      <td>0.134211</td>\n",
       "      <td>0.170475</td>\n",
       "      <td>0.158333</td>\n",
       "    </tr>\n",
       "    <tr>\n",
       "      <th>2</th>\n",
       "      <td>0.136842</td>\n",
       "      <td>0.146749</td>\n",
       "      <td>0.133333</td>\n",
       "    </tr>\n",
       "    <tr>\n",
       "      <th>3</th>\n",
       "      <td>0.140351</td>\n",
       "      <td>0.134739</td>\n",
       "      <td>0.130556</td>\n",
       "    </tr>\n",
       "    <tr>\n",
       "      <th>4</th>\n",
       "      <td>0.134211</td>\n",
       "      <td>0.127417</td>\n",
       "      <td>0.122917</td>\n",
       "    </tr>\n",
       "    <tr>\n",
       "      <th>5</th>\n",
       "      <td>0.128158</td>\n",
       "      <td>0.121968</td>\n",
       "      <td>0.120000</td>\n",
       "    </tr>\n",
       "    <tr>\n",
       "      <th>6</th>\n",
       "      <td>0.121711</td>\n",
       "      <td>0.115700</td>\n",
       "      <td>0.106944</td>\n",
       "    </tr>\n",
       "    <tr>\n",
       "      <th>7</th>\n",
       "      <td>0.117669</td>\n",
       "      <td>0.105197</td>\n",
       "      <td>0.101190</td>\n",
       "    </tr>\n",
       "    <tr>\n",
       "      <th>8</th>\n",
       "      <td>0.103947</td>\n",
       "      <td>0.092267</td>\n",
       "      <td>0.088542</td>\n",
       "    </tr>\n",
       "  </tbody>\n",
       "</table>\n",
       "</div>"
      ],
      "text/plain": [
       "   Promoter   Passive  Detractor\n",
       "1  0.134211  0.170475   0.158333\n",
       "2  0.136842  0.146749   0.133333\n",
       "3  0.140351  0.134739   0.130556\n",
       "4  0.134211  0.127417   0.122917\n",
       "5  0.128158  0.121968   0.120000\n",
       "6  0.121711  0.115700   0.106944\n",
       "7  0.117669  0.105197   0.101190\n",
       "8  0.103947  0.092267   0.088542"
      ]
     },
     "execution_count": 510,
     "metadata": {},
     "output_type": "execute_result"
    }
   ],
   "source": [
    "# Let's Takes a Look at That Data!\n",
    "percents = pd.DataFrame(data=percents_for_all_groups, index=range(1,9))\n",
    "percents"
   ]
  },
  {
   "cell_type": "code",
   "execution_count": 539,
   "metadata": {},
   "outputs": [
    {
     "data": {
      "image/png": "[encoded data removed]",
      "text/plain": [
       "<Figure size 432x288 with 1 Axes>"
      ]
     },
     "metadata": {},
     "output_type": "display_data"
    }
   ],
   "source": [
    "# Alt Representation Using Line Plot - Shoutout to John for helping me with this!\n",
    "ax.set(xlabel='Week', ylabel='NPS Score',\n",
    "       title='Variance in Survey Responses by Track')\n",
    "sns.lineplot(data=percents)\n",
    "plt.show()"
   ]
  },
  {
   "cell_type": "code",
   "execution_count": null,
   "metadata": {},
   "outputs": [],
   "source": []
  }
 ],
 "metadata": {
  "kernelspec": {
   "display_name": "Python 3",
   "language": "python",
   "name": "python3"
  },
  "language_info": {
   "codemirror_mode": {
    "name": "ipython",
    "version": 3
   },
   "file_extension": ".py",
   "mimetype": "text/x-python",
   "name": "python",
   "nbconvert_exporter": "python",
   "pygments_lexer": "ipython3",
   "version": "3.7.6"
  }
 },
 "nbformat": 4,
 "nbformat_minor": 4
}
